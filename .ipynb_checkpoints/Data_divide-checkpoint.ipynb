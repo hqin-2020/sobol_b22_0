{
 "cells": [
  {
   "cell_type": "code",
   "execution_count": 1,
   "id": "e5989438",
   "metadata": {},
   "outputs": [],
   "source": [
    "import numpy as np\n",
    "import scipy as sp\n",
    "import pandas as pd\n",
    "import sobol\n",
    "import os\n",
    "import pickle\n",
    "obs_series = pd.read_csv('data.csv', delimiter=',')\n",
    "obs_series = np.array(obs_series.iloc[:,1:]).T\n",
    "\n",
    "outputdir = os.getcwd() + '/sobol_sequence/'\n",
    "paradir = os.getcwd() + '/para/'"
   ]
  },
  {
   "cell_type": "code",
   "execution_count": 2,
   "id": "ce972c10",
   "metadata": {},
   "outputs": [],
   "source": [
    "n_points = 100000\n",
    "paral = 100\n",
    "sobol_sequence = sobol.sample(dimension=22, n_points=n_points)\n",
    "sobol_sequence[:,1:] = sobol_sequence[:,1:]*2 -1\n",
    "start = np.array_split(sobol_sequence, paral)"
   ]
  },
  {
   "cell_type": "code",
   "execution_count": 3,
   "id": "a3f2b822",
   "metadata": {},
   "outputs": [],
   "source": [
    "for i in range(1,paral+1):\n",
    "    with open(outputdir + 'sobol_'+str(i)+'.pkl', 'wb') as f:\n",
    "       pickle.dump(start[i-1], f)"
   ]
  },
  {
   "cell_type": "code",
   "execution_count": 4,
   "id": "21051fd5",
   "metadata": {},
   "outputs": [],
   "source": [
    "with open(paradir + 'para.py') as f:\n",
    "    lines = f.readlines()"
   ]
  },
  {
   "cell_type": "code",
   "execution_count": 5,
   "id": "c367774c",
   "metadata": {},
   "outputs": [],
   "source": [
    "for block in range(1,paral+1):\n",
    "    for i in range(len(lines)):\n",
    "        if lines[i].startswith('block = '):\n",
    "            lines[i] = 'block = '+str(block) + '\\n'\n",
    "    with open(paradir + 'para_'+str(block)+'.py', 'w') as f:\n",
    "        f.writelines(lines)"
   ]
  },
  {
   "cell_type": "code",
   "execution_count": 52,
   "id": "29317a58",
   "metadata": {},
   "outputs": [],
   "source": []
  },
  {
   "cell_type": "code",
   "execution_count": 55,
   "id": "1bc18218",
   "metadata": {},
   "outputs": [],
   "source": []
  },
  {
   "cell_type": "code",
   "execution_count": null,
   "id": "b4478a87",
   "metadata": {},
   "outputs": [],
   "source": []
  }
 ],
 "metadata": {
  "kernelspec": {
   "display_name": "Python 3 (ipykernel)",
   "language": "python",
   "name": "python3"
  },
  "language_info": {
   "codemirror_mode": {
    "name": "ipython",
    "version": 3
   },
   "file_extension": ".py",
   "mimetype": "text/x-python",
   "name": "python",
   "nbconvert_exporter": "python",
   "pygments_lexer": "ipython3",
   "version": "3.9.12"
  }
 },
 "nbformat": 4,
 "nbformat_minor": 5
}
