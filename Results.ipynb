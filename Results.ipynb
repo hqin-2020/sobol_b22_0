{
 "cells": [
  {
   "cell_type": "code",
   "execution_count": 1,
   "id": "6f744a15",
   "metadata": {},
   "outputs": [],
   "source": [
    "import numpy as np\n",
    "import scipy as sp\n",
    "import pandas as pd\n",
    "import matplotlib.pyplot as plt\n",
    "import seaborn as sns\n",
    "import array_to_latex as a2l\n",
    "import os\n",
    "import pickle\n",
    "np.set_printoptions(suppress = True)\n",
    "# obs_series = np.genfromtxt('obs_series.csv', delimiter=',')\n",
    "obs_series = pd.read_csv('data.csv', delimiter=',')\n",
    "obs_series = np.array(obs_series.iloc[:,1:]).T"
   ]
  },
  {
   "cell_type": "code",
   "execution_count": 2,
   "id": "cee80dbb",
   "metadata": {},
   "outputs": [],
   "source": [
    "datadir = os.getcwd()\n",
    "onlyfiles = [f for f in os.listdir(datadir) if (os.path.isfile(os.path.join(datadir, f)))&(f[-3:]=='pkl')]\n",
    "file = []\n",
    "for i in onlyfiles:\n",
    "    with open(i, 'rb') as f:\n",
    "        temp = pickle.load(f)\n",
    "        file = file + temp\n",
    "θs = []\n",
    "for i in file:\n",
    "    try:\n",
    "        if np.isnan(i[0].fun) == False:\n",
    "            θs.append(i[0])\n",
    "    except:\n",
    "        pass"
   ]
  },
  {
   "cell_type": "code",
   "execution_count": 3,
   "id": "327b846a",
   "metadata": {},
   "outputs": [],
   "source": [
    "fun = pd.DataFrame([i.fun for i in θs])\n",
    "nit = pd.DataFrame([i.nit for i in θs])\n",
    "success = pd.DataFrame([i.success for i in θs])\n",
    "message = pd.DataFrame([i.message for i in θs])\n",
    "λ = pd.DataFrame([i.x[0] for i in θs])\n",
    "η = pd.DataFrame([i.x[1] for i in θs])\n",
    "b11 = pd.DataFrame([i.x[2] for i in θs])\n",
    "b22 = pd.DataFrame([i.x[3] for i in θs])\n",
    "stable = pd.DataFrame([np.max(np.linalg.eig(np.array([i.x[4:7],i.x[8:11],i.x[12:15]]))[0])<1 for i in θs])\n",
    "hess = pd.DataFrame([np.all(np.linalg.eigvals(i.hess_inv.todense()) >=0) for i in θs])"
   ]
  },
  {
   "cell_type": "code",
   "execution_count": 4,
   "id": "a260c0dd",
   "metadata": {},
   "outputs": [
    {
     "data": {
      "text/html": [
       "<div>\n",
       "<style scoped>\n",
       "    .dataframe tbody tr th:only-of-type {\n",
       "        vertical-align: middle;\n",
       "    }\n",
       "\n",
       "    .dataframe tbody tr th {\n",
       "        vertical-align: top;\n",
       "    }\n",
       "\n",
       "    .dataframe thead th {\n",
       "        text-align: right;\n",
       "    }\n",
       "</style>\n",
       "<table border=\"1\" class=\"dataframe\">\n",
       "  <thead>\n",
       "    <tr style=\"text-align: right;\">\n",
       "      <th></th>\n",
       "      <th>ll</th>\n",
       "      <th>nit</th>\n",
       "      <th>success</th>\n",
       "      <th>message</th>\n",
       "      <th>λ</th>\n",
       "      <th>η</th>\n",
       "      <th>b11</th>\n",
       "      <th>b22</th>\n",
       "      <th>stable</th>\n",
       "      <th>hess</th>\n",
       "    </tr>\n",
       "  </thead>\n",
       "  <tbody>\n",
       "    <tr>\n",
       "      <th>1020</th>\n",
       "      <td>-2167.219803</td>\n",
       "      <td>406</td>\n",
       "      <td>True</td>\n",
       "      <td>b'CONVERGENCE: REL_REDUCTION_OF_F_&lt;=_FACTR*EPS...</td>\n",
       "      <td>0.447157</td>\n",
       "      <td>0.002627</td>\n",
       "      <td>-0.000186</td>\n",
       "      <td>0.003970</td>\n",
       "      <td>True</td>\n",
       "      <td>True</td>\n",
       "    </tr>\n",
       "    <tr>\n",
       "      <th>790</th>\n",
       "      <td>-2164.203915</td>\n",
       "      <td>375</td>\n",
       "      <td>True</td>\n",
       "      <td>b'CONVERGENCE: REL_REDUCTION_OF_F_&lt;=_FACTR*EPS...</td>\n",
       "      <td>0.524200</td>\n",
       "      <td>0.002224</td>\n",
       "      <td>-0.003593</td>\n",
       "      <td>-0.003167</td>\n",
       "      <td>True</td>\n",
       "      <td>True</td>\n",
       "    </tr>\n",
       "    <tr>\n",
       "      <th>1237</th>\n",
       "      <td>-2159.867040</td>\n",
       "      <td>399</td>\n",
       "      <td>True</td>\n",
       "      <td>b'CONVERGENCE: REL_REDUCTION_OF_F_&lt;=_FACTR*EPS...</td>\n",
       "      <td>0.182437</td>\n",
       "      <td>0.003853</td>\n",
       "      <td>-0.000041</td>\n",
       "      <td>0.005023</td>\n",
       "      <td>True</td>\n",
       "      <td>True</td>\n",
       "    </tr>\n",
       "    <tr>\n",
       "      <th>271</th>\n",
       "      <td>-690.362097</td>\n",
       "      <td>123</td>\n",
       "      <td>True</td>\n",
       "      <td>b'CONVERGENCE: REL_REDUCTION_OF_F_&lt;=_FACTR*EPS...</td>\n",
       "      <td>0.004454</td>\n",
       "      <td>0.000816</td>\n",
       "      <td>-1.143198</td>\n",
       "      <td>-0.608221</td>\n",
       "      <td>True</td>\n",
       "      <td>True</td>\n",
       "    </tr>\n",
       "    <tr>\n",
       "      <th>311</th>\n",
       "      <td>-495.050373</td>\n",
       "      <td>136</td>\n",
       "      <td>True</td>\n",
       "      <td>b'CONVERGENCE: REL_REDUCTION_OF_F_&lt;=_FACTR*EPS...</td>\n",
       "      <td>0.227838</td>\n",
       "      <td>0.003185</td>\n",
       "      <td>-0.001811</td>\n",
       "      <td>-0.012198</td>\n",
       "      <td>True</td>\n",
       "      <td>True</td>\n",
       "    </tr>\n",
       "    <tr>\n",
       "      <th>...</th>\n",
       "      <td>...</td>\n",
       "      <td>...</td>\n",
       "      <td>...</td>\n",
       "      <td>...</td>\n",
       "      <td>...</td>\n",
       "      <td>...</td>\n",
       "      <td>...</td>\n",
       "      <td>...</td>\n",
       "      <td>...</td>\n",
       "      <td>...</td>\n",
       "    </tr>\n",
       "    <tr>\n",
       "      <th>1145</th>\n",
       "      <td>26613.354939</td>\n",
       "      <td>1</td>\n",
       "      <td>True</td>\n",
       "      <td>b'CONVERGENCE: REL_REDUCTION_OF_F_&lt;=_FACTR*EPS...</td>\n",
       "      <td>0.153644</td>\n",
       "      <td>2.743815</td>\n",
       "      <td>1.623766</td>\n",
       "      <td>1.738733</td>\n",
       "      <td>True</td>\n",
       "      <td>True</td>\n",
       "    </tr>\n",
       "    <tr>\n",
       "      <th>801</th>\n",
       "      <td>42890.891340</td>\n",
       "      <td>1</td>\n",
       "      <td>True</td>\n",
       "      <td>b'CONVERGENCE: REL_REDUCTION_OF_F_&lt;=_FACTR*EPS...</td>\n",
       "      <td>0.210801</td>\n",
       "      <td>-2.100731</td>\n",
       "      <td>-1.854243</td>\n",
       "      <td>3.485508</td>\n",
       "      <td>True</td>\n",
       "      <td>True</td>\n",
       "    </tr>\n",
       "    <tr>\n",
       "      <th>273</th>\n",
       "      <td>43994.028059</td>\n",
       "      <td>3</td>\n",
       "      <td>True</td>\n",
       "      <td>b'CONVERGENCE: REL_REDUCTION_OF_F_&lt;=_FACTR*EPS...</td>\n",
       "      <td>0.000000</td>\n",
       "      <td>1.174064</td>\n",
       "      <td>-1.497682</td>\n",
       "      <td>1.472632</td>\n",
       "      <td>True</td>\n",
       "      <td>True</td>\n",
       "    </tr>\n",
       "    <tr>\n",
       "      <th>241</th>\n",
       "      <td>44156.675176</td>\n",
       "      <td>1</td>\n",
       "      <td>True</td>\n",
       "      <td>b'CONVERGENCE: REL_REDUCTION_OF_F_&lt;=_FACTR*EPS...</td>\n",
       "      <td>0.274759</td>\n",
       "      <td>-1.519348</td>\n",
       "      <td>2.246278</td>\n",
       "      <td>-4.135279</td>\n",
       "      <td>True</td>\n",
       "      <td>True</td>\n",
       "    </tr>\n",
       "    <tr>\n",
       "      <th>802</th>\n",
       "      <td>54238.963272</td>\n",
       "      <td>1</td>\n",
       "      <td>True</td>\n",
       "      <td>b'CONVERGENCE: REL_REDUCTION_OF_F_&lt;=_FACTR*EPS...</td>\n",
       "      <td>0.054884</td>\n",
       "      <td>-0.636114</td>\n",
       "      <td>0.014210</td>\n",
       "      <td>0.516117</td>\n",
       "      <td>True</td>\n",
       "      <td>True</td>\n",
       "    </tr>\n",
       "  </tbody>\n",
       "</table>\n",
       "<p>436 rows × 10 columns</p>\n",
       "</div>"
      ],
      "text/plain": [
       "                ll  nit  success  \\\n",
       "1020  -2167.219803  406     True   \n",
       "790   -2164.203915  375     True   \n",
       "1237  -2159.867040  399     True   \n",
       "271    -690.362097  123     True   \n",
       "311    -495.050373  136     True   \n",
       "...            ...  ...      ...   \n",
       "1145  26613.354939    1     True   \n",
       "801   42890.891340    1     True   \n",
       "273   43994.028059    3     True   \n",
       "241   44156.675176    1     True   \n",
       "802   54238.963272    1     True   \n",
       "\n",
       "                                                message         λ         η  \\\n",
       "1020  b'CONVERGENCE: REL_REDUCTION_OF_F_<=_FACTR*EPS...  0.447157  0.002627   \n",
       "790   b'CONVERGENCE: REL_REDUCTION_OF_F_<=_FACTR*EPS...  0.524200  0.002224   \n",
       "1237  b'CONVERGENCE: REL_REDUCTION_OF_F_<=_FACTR*EPS...  0.182437  0.003853   \n",
       "271   b'CONVERGENCE: REL_REDUCTION_OF_F_<=_FACTR*EPS...  0.004454  0.000816   \n",
       "311   b'CONVERGENCE: REL_REDUCTION_OF_F_<=_FACTR*EPS...  0.227838  0.003185   \n",
       "...                                                 ...       ...       ...   \n",
       "1145  b'CONVERGENCE: REL_REDUCTION_OF_F_<=_FACTR*EPS...  0.153644  2.743815   \n",
       "801   b'CONVERGENCE: REL_REDUCTION_OF_F_<=_FACTR*EPS...  0.210801 -2.100731   \n",
       "273   b'CONVERGENCE: REL_REDUCTION_OF_F_<=_FACTR*EPS...  0.000000  1.174064   \n",
       "241   b'CONVERGENCE: REL_REDUCTION_OF_F_<=_FACTR*EPS...  0.274759 -1.519348   \n",
       "802   b'CONVERGENCE: REL_REDUCTION_OF_F_<=_FACTR*EPS...  0.054884 -0.636114   \n",
       "\n",
       "           b11       b22  stable  hess  \n",
       "1020 -0.000186  0.003970    True  True  \n",
       "790  -0.003593 -0.003167    True  True  \n",
       "1237 -0.000041  0.005023    True  True  \n",
       "271  -1.143198 -0.608221    True  True  \n",
       "311  -0.001811 -0.012198    True  True  \n",
       "...        ...       ...     ...   ...  \n",
       "1145  1.623766  1.738733    True  True  \n",
       "801  -1.854243  3.485508    True  True  \n",
       "273  -1.497682  1.472632    True  True  \n",
       "241   2.246278 -4.135279    True  True  \n",
       "802   0.014210  0.516117    True  True  \n",
       "\n",
       "[436 rows x 10 columns]"
      ]
     },
     "execution_count": 4,
     "metadata": {},
     "output_type": "execute_result"
    }
   ],
   "source": [
    "res = pd.concat([fun, nit, success, message, λ, η, b11, b22, stable, hess], axis = 1)\n",
    "res.columns = ['ll','nit','success','message','λ','η','b11','b22','stable','hess']\n",
    "res = res.loc[res['success']==True]\n",
    "res = res.loc[res['stable']==True]\n",
    "res = res.loc[res['hess']==True]\n",
    "res.sort_values(by = 'll',ascending = True)"
   ]
  },
  {
   "cell_type": "code",
   "execution_count": 61,
   "id": "fa6090c6",
   "metadata": {},
   "outputs": [],
   "source": [
    "θ = θs[1020].x\n",
    "\n",
    "θ = np.array([ 0.81335461,  0.0008838 ,  0.00264882,  0.00205893, -0.06932197,\n",
    "        0.03693947,  0.01914964,  0.14526841,  0.55429254,  0.96165619,\n",
    "       -0.01372573, -0.10883824, -1.38159534,  0.05512141,  1.02297055,\n",
    "        0.19312876, -0.00214002, -0.01663311,  0.02918606, -0.00637849,\n",
    "        0.00084532,  0.03995731])\n",
    "θ = np.array([ 0.77096756,  0.00108784,  0.00000639,  0.00240388,  0.18799262,\n",
    "        0.03360472,  0.0172674 ,  0.12293973,  0.56276258,  0.9571477 ,\n",
    "       -0.0154036 , -0.11810094, -1.36636394,  0.06413006,  1.0245882 ,\n",
    "        0.20477673, -0.00291407, -0.01420238,  0.03048646, -0.00529517,\n",
    "        0.00211661,  0.04023442])\n",
    "θ = np.array([ 0.78551082,  0.00101908, -0.00001732,  0.00232475,  0.23225134,\n",
    "        0.03323253,  0.01683406,  0.11843385,  0.58524044,  0.9548389 ,\n",
    "       -0.0163681 , -0.12377525, -1.36063181,  0.06541425,  1.02481179,\n",
    "        0.20500185, -0.00299703, -0.01416611,  0.03054636, -0.00524111,\n",
    "        0.00217498,  0.04019188])\n",
    "\n",
    "η, λ, b11, b22, Bs11, Bs21, Bs31, As14, Bs22, Bs32, As24, As34, Bs33, As11, As21, As31, As12, As22, As32, As13, As23, As33 =0.000996660645706002,0.787936017358697,0.00402591329042657,0.0017966610336503,1.3181561898462e-07,-0.0294789579497956,-0.0158863622772698,-0.00466172312601469,0.0130659673777097,-0.0352775532271587,0.607372544963266,0.596664883000289,3.31746358881826e-07,1.00106843767799,-0.329743327881358,-0.337890493598685,0.00288805827903624,1.01752366497545,0.0428641649353026,0.000738022437643496,-0.065224958211231,0.925763610330883\n",
    "# η, λ, b11, b22, Bs11, Bs21, Bs31, As14, Bs22, Bs32, As24, As34, Bs33, As11, As21, As31, As12, As22, As32, As13, As23, As33 =\\\n",
    "# 0.000306035776019451,0.935609954695801,0.00131939188590408,0.000869213790253369,0.00409710916123683,0.0108212250850214,0.00134581274004778,0.211904073311165,0.0317725503839175,0.000996088868709153,1.03681373745934,3.03572772398832,0.0373013123515122,0.930608882894182,-0.321367948920251,-0.971339327544689,0.0147499590953759,1.0482168505822,0.187474844562292,-0.00649510613343986,-0.0424322547001591,0.882246818261194\n",
    "η, λ, b11, b22, Bs11, Bs21, Bs31, As14, Bs22, Bs32, As24, As34, Bs33, As11, As21, As31, As12, As22, As32, As13, As23, As33 =\\\n",
    "0.000337806911619457,0.925611899966844,0.00426115633814111,0.000878388426081797,0.000855036659249236,0.0321824352445475,-0.00610225680170371,0.487472049225891,0.00840151161257446,0.0293385523196504,2.41068755174513,4.67585412904258,0.0244516390738668,0.715577036813766,-1.403555148606,-2.73167426063458,0.0279294444593202,1.11826912103711,0.269594820878606,-0.0015504105021487,-0.0134362575127877,0.977364145257339\n",
    "\n",
    "η, λ, b11, b22, Bs11, Bs21, Bs31, As14, Bs22, Bs32, As24, As34, Bs33, As11, As21, As31, As12, As22, As32, As13, As23, As33 =\\\n",
    "0.000305490846638182,\\\n",
    "0.935762654740717,\\\n",
    "0.00127380252943099,\\\n",
    "0.000868115810321064,\\\n",
    "0.0041120612103662,\\\n",
    "0.0108126590160435,\\\n",
    "0.00137527444192848,\\\n",
    "0.124623137858823,\\\n",
    "0.0317777947324973,\\\n",
    "0.000987661915634757,\\\n",
    "0.589508880576824,\\\n",
    "1.75848709156144,\\\n",
    "0.0372986778572148,\\\n",
    "0.931437823559413,\\\n",
    "-0.318835369083619,\\\n",
    "-0.964454132673237,\\\n",
    "0.0146701405858222,\\\n",
    "1.04809015174125,\\\n",
    "0.187080844884679,\\\n",
    "-0.00647597279893236,\\\n",
    "-0.0425642238596372,\\\n",
    "0.881787728909007\n",
    "\n",
    "θ = np.array([λ, η, \\\n",
    "              b11, b22, \\\n",
    "              As11, As12, As13, As14, \\\n",
    "              As21, As22, As23, As24, \\\n",
    "              As31, As32, As33, As34, \\\n",
    "              Bs11, Bs21, Bs22, Bs31, Bs32, Bs33])"
   ]
  },
  {
   "cell_type": "code",
   "execution_count": 62,
   "id": "e78dca09",
   "metadata": {},
   "outputs": [],
   "source": [
    "def ll(θ):\n",
    "\n",
    "    λ, η, b11, b22, As11, As12, As13, As14, As21, As22, As23, As24, As31, As32, As33, As34, Bs11, Bs21, Bs22, Bs31, Bs32, Bs33 = θ\n",
    "\n",
    "    A = np.array([[1,   1,   0,     0,     0,     0],\\\n",
    "                [0,   λ,   0,     0,     0,     η],\\\n",
    "                [0,   0,   As11,  As12,  As13,  As14],\\\n",
    "                [0,   0,   As21,  As22,  As23,  As24],\\\n",
    "                [0,   0,   As31,  As32,  As33,  As34],\\\n",
    "                [0,   0,   0,     0,     0,     1]])\n",
    "    B = np.array([[b11, 0,   0,     0,     0],\\\n",
    "                [0,   b22, 0,     0,     0],\\\n",
    "                [0,   0,   Bs11,  0,     0],\\\n",
    "                [0,   0,   Bs21,  Bs22,  0],\\\n",
    "                [0,   0,   Bs31,  Bs32,  Bs33],\\\n",
    "                [0,   0,   0,       0,   0]])\n",
    "    D = np.array([[1,   1,   As11,  As12,  As13,  As14],\\\n",
    "                [1,   1,   As21,  As22,  As23,  As24],\\\n",
    "                [1,   1,   As31,  As32,  As33,  As34]])\n",
    "    F = np.array([[b11, 0,   Bs11,  0,     0],\\\n",
    "                [b11, 0,   Bs21,  Bs22,  0],\\\n",
    "                [b11, 0,   Bs31,  Bs32,  Bs33]])\n",
    "\n",
    "    μ0, Σ0, _, _ = init_kf(θ)\n",
    "\n",
    "    _, _, ll = Kalman_Filter(obs_series, D, F, A, B, μ0, Σ0)\n",
    "\n",
    "    return -ll[0][0]\n",
    "\n",
    "def callback(x):\n",
    "    fobj = ll(x)\n",
    "    θseries.append(x)\n",
    "    llseries.append(fobj)"
   ]
  },
  {
   "cell_type": "code",
   "execution_count": 63,
   "id": "eae54202",
   "metadata": {},
   "outputs": [],
   "source": [
    "def init_kf(θ):\n",
    "    \n",
    "    λ, η, b11, b22, As11, As12, As13, As14, As21, As22, As23, As24, As31, As32, As33, As34, Bs11, Bs21, Bs22, Bs31, Bs32, Bs33 = θ\n",
    "    ones = np.ones([3,1])\n",
    "    \n",
    "    Ass = np.array([[As11, As12, As13],\\\n",
    "                    [As21, As22, As23],\\\n",
    "                    [As31, As32, As33]])\n",
    "    Aso = np.array([[As14],\\\n",
    "                    [As24],\\\n",
    "                    [As34]])\n",
    "    Bs =  np.array([[Bs11, 0,    0],\\\n",
    "                    [Bs21, Bs22, 0],\\\n",
    "                    [Bs31, Bs32, Bs33]])\n",
    "    \n",
    "    μs = sp.linalg.solve(np.eye(3) - Ass, Aso) \n",
    "    Σs = sp.linalg.solve_discrete_lyapunov(Ass, Bs@Bs.T)\n",
    "    \n",
    "    β = sp.linalg.solve(np.hstack([Σs@np.array([[1,1],[0,-1],[-1,0]]), ones]).T, np.array([[0,0,1]]).T)                                     \n",
    "    γ1 = np.array([[1],[0],[0]]) - sp.linalg.inv(Σs)@ones/(ones.T@sp.linalg.inv(Σs)@ones)\n",
    "    γ2 = np.array([[0],[1],[0]]) - sp.linalg.inv(Σs)@ones/(ones.T@sp.linalg.inv(Σs)@ones)\n",
    "    γ3 = np.array([[0],[0],[1]]) - sp.linalg.inv(Σs)@ones/(ones.T@sp.linalg.inv(Σs)@ones)\n",
    "    Γ = np.hstack([γ1, γ2, γ3])\n",
    "    \n",
    "    Z01 = β.T@(obs_series[:,[0]] - μs)\n",
    "    Σz01 = 0\n",
    "    Z02 = η/(1-λ)\n",
    "    Σz02 = b22**2/(1-λ**2)\n",
    "    S0 = Γ.T@(obs_series[:,[0]] - μs) + μs\n",
    "    Σs0 = (1/(ones.T@np.linalg.inv(Σs)@ones))[0][0]\n",
    "    \n",
    "    μ0 = np.array([[Z01[0][0]],\\\n",
    "                   [Z02],\\\n",
    "                   [S0[0][0]],\\\n",
    "                   [S0[1][0]],\\\n",
    "                   [S0[2][0]],\\\n",
    "                   [1]])\n",
    "    Σ0 = np.array([[Σz01,0,    0,   0,   0,   0],\\\n",
    "                   [0,   Σz02, 0,   0,   0,   0],\\\n",
    "                   [0,   0,    Σs0, Σs0, Σs0, 0],\\\n",
    "                   [0,   0,    Σs0, Σs0, Σs0, 0],\\\n",
    "                   [0,   0,    Σs0, Σs0, Σs0, 0],\\\n",
    "                   [0,   0,    0,   0,   0,   0]])    \n",
    "    return μ0, Σ0, Ass, Σs"
   ]
  },
  {
   "cell_type": "code",
   "execution_count": 64,
   "id": "104fead2",
   "metadata": {},
   "outputs": [],
   "source": [
    "def Kalman_Filter(obs, D, F, A, B, μ0, Σ0):\n",
    "\n",
    "    state_μ = np.zeros([A.shape[1], obs.shape[1]])\n",
    "    state_μ[:,[0]] = μ0\n",
    "    state_Σ = np.zeros([A.shape[1], A.shape[1], obs.shape[1]])\n",
    "    state_Σ[:,:,0] = Σ0\n",
    "\n",
    "    ll = 0\n",
    "\n",
    "    for t in range(obs.shape[1]-1):\n",
    "        μt = state_μ[:,[t]]\n",
    "        Σt = state_Σ[:,:,t]\n",
    "        KΣt = (A@Σt@D.T + B@F.T)@np.linalg.inv(D@Σt@D.T+F@F.T)\n",
    "        state_μ[:,[t+1]] = A@μt + KΣt@(obs[:,[t+1]] - D@μt)\n",
    "        state_Σ[:,:,t+1] = A@Σt@A.T + B@B.T - (A@Σt@D.T + B@F.T)@np.linalg.inv(D@Σt@D.T + F@F.T)@(D@Σt@A.T+F@B.T)\n",
    "\n",
    "        Ω = D@Σt@D.T + F@F.T\n",
    "        ll += (-0.5*obs_series.shape[0]*np.log(2*np.pi) - 0.5*np.log(np.linalg.det(Ω)) \\\n",
    "               - 0.5*(obs[:,[t+1]] - D@μt).T@np.linalg.inv(Ω)@(obs[:,[t+1]] - D@μt))\n",
    "    return state_μ, state_Σ ,ll"
   ]
  },
  {
   "cell_type": "code",
   "execution_count": 65,
   "id": "f28c32c4",
   "metadata": {},
   "outputs": [
    {
     "name": "stdout",
     "output_type": "stream",
     "text": [
      "CPU times: user 3min 12s, sys: 484 ms, total: 3min 13s\n",
      "Wall time: 3min 13s\n"
     ]
    }
   ],
   "source": [
    "%%time\n",
    "θseries = []\n",
    "llseries = []\n",
    "θ_opt = sp.optimize.minimize(ll, θ, method = 'L-BFGS-B', bounds = None, callback = callback, tol=1e-9) "
   ]
  },
  {
   "cell_type": "code",
   "execution_count": 67,
   "id": "2f125c38",
   "metadata": {},
   "outputs": [
    {
     "data": {
      "text/plain": [
       "      fun: -2200.4889661869443\n",
       " hess_inv: <22x22 LbfgsInvHessProduct with dtype=float64>\n",
       "      jac: array([  0.12482815, -89.11051737,  -1.38879841, -12.13225005,\n",
       "         9.55724313,   0.60545062,  -6.52207746,   4.57857823,\n",
       "         0.05602487,   5.30794754,   1.76596586,  -0.36725396,\n",
       "        -0.60649654,  -0.70685928,   1.36501512,  -0.17203092,\n",
       "         8.01355782,   2.52516656,  -6.8063855 ,  -1.85223143,\n",
       "        -1.17311174,   2.66622919])\n",
       "  message: 'CONVERGENCE: REL_REDUCTION_OF_F_<=_FACTR*EPSMCH'\n",
       "     nfev: 7636\n",
       "      nit: 294\n",
       "     njev: 332\n",
       "   status: 0\n",
       "  success: True\n",
       "        x: array([ 0.92543379,  0.00036262,  0.00147342,  0.00093325,  0.93194123,\n",
       "        0.01453103, -0.00644192,  0.12373645, -0.3187978 ,  1.04778299,\n",
       "       -0.04270882,  0.58961856, -0.96430256,  0.18742774,  0.8822512 ,\n",
       "        1.75849743,  0.00402237,  0.01075879,  0.03176089,  0.00126119,\n",
       "        0.00101276,  0.03731377])"
      ]
     },
     "execution_count": 67,
     "metadata": {},
     "output_type": "execute_result"
    }
   ],
   "source": [
    "θ_opt"
   ]
  },
  {
   "cell_type": "code",
   "execution_count": 55,
   "id": "a23a5b6b",
   "metadata": {},
   "outputs": [],
   "source": [
    "# λ, η, b11, b22, As11, As12, As13, As14, As21, As22, As23, As24, As31, As32, As33, As34, Bs11, Bs21, Bs22, Bs31, Bs32, Bs33 = θ\n",
    "\n",
    "A = np.array([[1,   1,   0,     0,     0,     0],\\\n",
    "              [0,   λ,   0,     0,     0,     η],\\\n",
    "              [0,   0,   As11,  As12,  As13,  As14],\\\n",
    "              [0,   0,   As21,  As22,  As23,  As24],\\\n",
    "              [0,   0,   As31,  As32,  As33,  As34],\\\n",
    "              [0,   0,   0,     0,     0,     1]])\n",
    "B = np.array([[b11, 0,   0,     0,     0],\\\n",
    "              [0,   b22, 0,     0,     0],\\\n",
    "              [0,   0,   Bs11,  0,     0],\\\n",
    "              [0,   0,   Bs21,  Bs22,  0],\\\n",
    "              [0,   0,   Bs31,  Bs32,  Bs33],\\\n",
    "              [0,   0,   0,       0,   0]])\n",
    "D = np.array([[1,   1,   As11,  As12,  As13,  As14],\\\n",
    "              [1,   1,   As21,  As22,  As23,  As24],\\\n",
    "              [1,   1,   As31,  As32,  As33,  As34]])\n",
    "F = np.array([[b11, 0,   Bs11,  0,     0],\\\n",
    "              [b11, 0,   Bs21,  Bs22,  0],\\\n",
    "              [b11, 0,   Bs31,  Bs32,  Bs33]])\n",
    "\n",
    "Ass = np.array([[As11, As12, As13],\\\n",
    "                [As21, As22, As23],\\\n",
    "                [As31, As32, As33]])\n",
    "Aso = np.array([[As14],\\\n",
    "                [As24],\\\n",
    "                [As34]])\n",
    "Bs =  np.array([[Bs11, 0,    0],\\\n",
    "                [Bs21, Bs22, 0],\\\n",
    "                [Bs31, Bs32, Bs33]])\n",
    " \n",
    "Azz = np.array([[1, 1],\\\n",
    "                [0, λ]])\n",
    "\n",
    "Azo = np.array([[0],\\\n",
    "                [η]])\n",
    "\n",
    "Bz = np.array([[b11, 0],\\\n",
    "               [0, b22]])\n",
    "\n",
    "μ0, Σ0, _, _ = init_kf(θ)\n",
    "\n",
    "μ_state, Σ_state, ll = Kalman_Filter(obs_series, D, F, A, B, μ0, Σ0)"
   ]
  },
  {
   "cell_type": "code",
   "execution_count": 68,
   "id": "546a1233",
   "metadata": {},
   "outputs": [
    {
     "data": {
      "text/plain": [
       "array([[0.12462314],\n",
       "       [0.58950888],\n",
       "       [1.75848709]])"
      ]
     },
     "execution_count": 68,
     "metadata": {},
     "output_type": "execute_result"
    }
   ],
   "source": [
    "Aso"
   ]
  },
  {
   "cell_type": "code",
   "execution_count": 33,
   "id": "0918a547",
   "metadata": {},
   "outputs": [
    {
     "data": {
      "text/plain": [
       "array([[2200.43365708]])"
      ]
     },
     "execution_count": 33,
     "metadata": {},
     "output_type": "execute_result"
    }
   ],
   "source": [
    "ll"
   ]
  },
  {
   "cell_type": "code",
   "execution_count": 34,
   "id": "7edae953",
   "metadata": {},
   "outputs": [],
   "source": [
    "μz_state = μ_state[0:2,:]\n",
    "μs_state = μ_state[2:5,:]\n",
    "D_sim = μz_state[0,:]+μs_state"
   ]
  },
  {
   "cell_type": "code",
   "execution_count": 35,
   "id": "139fe1c9",
   "metadata": {},
   "outputs": [
    {
     "name": "stdout",
     "output_type": "stream",
     "text": [
      "\\begin{bmatrix}\n",
      "  1.9852\\\\\n",
      "  0.6631\\\\\n",
      " -0.2712\n",
      "\\end{bmatrix}\n"
     ]
    }
   ],
   "source": [
    "μs = sp.linalg.solve(np.eye(3) - Ass, Aso) \n",
    "a2l.to_ltx(μs, frmt = '{:6.4f}', arraytype = 'bmatrix', print_out=True)"
   ]
  },
  {
   "cell_type": "code",
   "execution_count": 36,
   "id": "eb9bd7f5",
   "metadata": {},
   "outputs": [
    {
     "name": "stdout",
     "output_type": "stream",
     "text": [
      "\\begin{bmatrix}\n",
      "  0.9958 + 0.0000j &  0.9328 + 0.0207j &  0.9328 + -0.0207j\n",
      "\\end{bmatrix}\n"
     ]
    }
   ],
   "source": [
    "np.linalg.eigvals(Ass)\n",
    "a2l.to_ltx(np.linalg.eigvals(Ass), frmt = '{:6.4f}', arraytype = 'bmatrix', print_out=True)"
   ]
  },
  {
   "cell_type": "code",
   "execution_count": 37,
   "id": "4126bdba",
   "metadata": {},
   "outputs": [
    {
     "name": "stdout",
     "output_type": "stream",
     "text": [
      "\\begin{bmatrix}\n",
      "  0.0030 &  0.0099 & -0.0083\\\\\n",
      "  0.0099 &  0.0515 & -0.0025\\\\\n",
      " -0.0083 & -0.0025 &  0.0705\n",
      "\\end{bmatrix}\n"
     ]
    }
   ],
   "source": [
    "Σs = sp.linalg.solve_discrete_lyapunov(Ass, Bs@Bs.T)\n",
    "a2l.to_ltx(Σs, frmt = '{:6.4f}', arraytype = 'bmatrix', print_out=True)"
   ]
  },
  {
   "cell_type": "code",
   "execution_count": 38,
   "id": "9ab0cd9c",
   "metadata": {},
   "outputs": [
    {
     "data": {
      "text/plain": [
       "array([0.00025182, 0.07216234, 0.05255831])"
      ]
     },
     "execution_count": 38,
     "metadata": {},
     "output_type": "execute_result"
    }
   ],
   "source": [
    "np.linalg.eigvals(Σs)"
   ]
  },
  {
   "cell_type": "code",
   "execution_count": 39,
   "id": "5df4b1b4",
   "metadata": {},
   "outputs": [
    {
     "name": "stdout",
     "output_type": "stream",
     "text": [
      "\\begin{bmatrix}\n",
      "  0.0003 &  0.0722 &  0.0526\n",
      "\\end{bmatrix}\n"
     ]
    }
   ],
   "source": [
    "np.linalg.eigvals(Σs)\n",
    "a2l.to_ltx(np.linalg.eigvals(Σs), frmt = '{:6.4f}', arraytype = 'bmatrix', print_out=True)"
   ]
  },
  {
   "cell_type": "code",
   "execution_count": 19,
   "id": "0c14b415",
   "metadata": {},
   "outputs": [
    {
     "name": "stdout",
     "output_type": "stream",
     "text": [
      "\\begin{bmatrix}\n",
      "  0.9314 &  0.0147 & -0.0065\\\\\n",
      " -0.3188 &  1.0481 & -0.0426\\\\\n",
      " -0.9645 &  0.1871 &  0.8818\n",
      "\\end{bmatrix}\n"
     ]
    }
   ],
   "source": [
    "Ass\n",
    "a2l.to_ltx(Ass, frmt = '{:6.4f}', arraytype = 'bmatrix', print_out=True)"
   ]
  },
  {
   "cell_type": "code",
   "execution_count": 20,
   "id": "af96b14d",
   "metadata": {},
   "outputs": [
    {
     "name": "stdout",
     "output_type": "stream",
     "text": [
      "\\begin{bmatrix}\n",
      "  0.1246\\\\\n",
      "  0.5895\\\\\n",
      "  1.7585\n",
      "\\end{bmatrix}\n"
     ]
    }
   ],
   "source": [
    "Aso\n",
    "a2l.to_ltx(Aso, frmt = '{:6.4f}', arraytype = 'bmatrix', print_out=True)"
   ]
  },
  {
   "cell_type": "code",
   "execution_count": 21,
   "id": "c6ac6556",
   "metadata": {},
   "outputs": [
    {
     "name": "stdout",
     "output_type": "stream",
     "text": [
      "\\begin{bmatrix}\n",
      "  0.0041 &  0.0000 &  0.0000\\\\\n",
      "  0.0108 &  0.0318 &  0.0000\\\\\n",
      "  0.0014 &  0.0010 &  0.0373\n",
      "\\end{bmatrix}\n"
     ]
    }
   ],
   "source": [
    "Bs\n",
    "a2l.to_ltx(Bs, frmt = '{:6.4f}', arraytype = 'bmatrix', print_out=True)"
   ]
  },
  {
   "cell_type": "code",
   "execution_count": 22,
   "id": "f437f25a",
   "metadata": {},
   "outputs": [
    {
     "name": "stdout",
     "output_type": "stream",
     "text": [
      "\\begin{bmatrix}\n",
      "  0.0000\\\\\n",
      "  0.0003\n",
      "\\end{bmatrix}\n"
     ]
    }
   ],
   "source": [
    "Azo\n",
    "a2l.to_ltx(Azo, frmt = '{:6.4f}', arraytype = 'bmatrix', print_out=True)"
   ]
  },
  {
   "cell_type": "code",
   "execution_count": 23,
   "id": "af65ee3c",
   "metadata": {},
   "outputs": [
    {
     "name": "stdout",
     "output_type": "stream",
     "text": [
      "\\begin{bmatrix}\n",
      "  1.0000 &  1.0000\\\\\n",
      "  0.0000 &  0.9358\n",
      "\\end{bmatrix}\n"
     ]
    }
   ],
   "source": [
    "Azz\n",
    "a2l.to_ltx(Azz, frmt = '{:6.4f}', arraytype = 'bmatrix', print_out=True)"
   ]
  },
  {
   "cell_type": "code",
   "execution_count": 24,
   "id": "4c0bebcb",
   "metadata": {},
   "outputs": [
    {
     "name": "stdout",
     "output_type": "stream",
     "text": [
      "\\begin{bmatrix}\n",
      "  0.0013 &  0.0000\\\\\n",
      "  0.0000 &  0.0009\n",
      "\\end{bmatrix}\n"
     ]
    }
   ],
   "source": [
    "Bz \n",
    "a2l.to_ltx(Bz, frmt = '{:6.4f}', arraytype = 'bmatrix', print_out=True)"
   ]
  },
  {
   "cell_type": "code",
   "execution_count": 25,
   "id": "078ac82a",
   "metadata": {},
   "outputs": [
    {
     "name": "stdout",
     "output_type": "stream",
     "text": [
      "\\begin{bmatrix}\n",
      "  7.2660\\\\\n",
      "  0.0048\\\\\n",
      "  2.1845\\\\\n",
      "  1.3911\\\\\n",
      " -0.8547\\\\\n",
      "  1.0000\n",
      "\\end{bmatrix}\n"
     ]
    }
   ],
   "source": [
    "μ0\n",
    "a2l.to_ltx(μ0, frmt = '{:6.4f}', arraytype = 'bmatrix', print_out=True)"
   ]
  },
  {
   "cell_type": "code",
   "execution_count": 26,
   "id": "b7335cfd",
   "metadata": {},
   "outputs": [
    {
     "data": {
      "text/plain": [
       "array([[0.        , 0.        , 0.        , 0.        , 0.        ,\n",
       "        0.        ],\n",
       "       [0.        , 0.00000606, 0.        , 0.        , 0.        ,\n",
       "        0.        ],\n",
       "       [0.        , 0.        , 0.00030616, 0.00030616, 0.00030616,\n",
       "        0.        ],\n",
       "       [0.        , 0.        , 0.00030616, 0.00030616, 0.00030616,\n",
       "        0.        ],\n",
       "       [0.        , 0.        , 0.00030616, 0.00030616, 0.00030616,\n",
       "        0.        ],\n",
       "       [0.        , 0.        , 0.        , 0.        , 0.        ,\n",
       "        0.        ]])"
      ]
     },
     "execution_count": 26,
     "metadata": {},
     "output_type": "execute_result"
    }
   ],
   "source": [
    "Σ0"
   ]
  },
  {
   "cell_type": "code",
   "execution_count": 28,
   "id": "bb17406a",
   "metadata": {},
   "outputs": [
    {
     "data": {
      "text/plain": [
       "[<matplotlib.lines.Line2D at 0x7fc7632aae50>]"
      ]
     },
     "execution_count": 28,
     "metadata": {},
     "output_type": "execute_result"
    },
    {
     "data": {
      "image/png": "[encoded data removed]",
      "text/plain": [
       "<Figure size 432x288 with 1 Axes>"
      ]
     },
     "metadata": {
      "needs_background": "light"
     },
     "output_type": "display_data"
    }
   ],
   "source": [
    "plt.plot(D_sim[0,:])\n",
    "plt.plot(obs_series[0,:])"
   ]
  },
  {
   "cell_type": "code",
   "execution_count": 29,
   "id": "d467d6dc",
   "metadata": {},
   "outputs": [
    {
     "data": {
      "text/plain": [
       "[<matplotlib.lines.Line2D at 0x7fc765efe040>]"
      ]
     },
     "execution_count": 29,
     "metadata": {},
     "output_type": "execute_result"
    },
    {
     "data": {
      "image/png": "[encoded data removed]",
      "text/plain": [
       "<Figure size 432x288 with 1 Axes>"
      ]
     },
     "metadata": {
      "needs_background": "light"
     },
     "output_type": "display_data"
    }
   ],
   "source": [
    "plt.plot(D_sim[1,:])\n",
    "plt.plot(obs_series[1,:])"
   ]
  },
  {
   "cell_type": "code",
   "execution_count": 30,
   "id": "c112b6fa",
   "metadata": {},
   "outputs": [
    {
     "data": {
      "text/plain": [
       "[<matplotlib.lines.Line2D at 0x7fc766c427f0>]"
      ]
     },
     "execution_count": 30,
     "metadata": {},
     "output_type": "execute_result"
    },
    {
     "data": {
      "image/png": "[encoded data removed]",
      "text/plain": [
       "<Figure size 432x288 with 1 Axes>"
      ]
     },
     "metadata": {
      "needs_background": "light"
     },
     "output_type": "display_data"
    }
   ],
   "source": [
    "plt.plot(D_sim[2,:])\n",
    "plt.plot(obs_series[2,:])"
   ]
  },
  {
   "cell_type": "code",
   "execution_count": null,
   "id": "69f52043",
   "metadata": {},
   "outputs": [],
   "source": []
  },
  {
   "cell_type": "code",
   "execution_count": null,
   "id": "897aa79b",
   "metadata": {},
   "outputs": [],
   "source": []
  }
 ],
 "metadata": {
  "kernelspec": {
   "display_name": "Python 3 (ipykernel)",
   "language": "python",
   "name": "python3"
  },
  "language_info": {
   "codemirror_mode": {
    "name": "ipython",
    "version": 3
   },
   "file_extension": ".py",
   "mimetype": "text/x-python",
   "name": "python",
   "nbconvert_exporter": "python",
   "pygments_lexer": "ipython3",
   "version": "3.9.12"
  }
 },
 "nbformat": 4,
 "nbformat_minor": 5
}
