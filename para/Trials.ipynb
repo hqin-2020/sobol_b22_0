{
 "cells": [
  {
   "cell_type": "code",
   "execution_count": 11,
   "id": "fd65101f",
   "metadata": {},
   "outputs": [],
   "source": [
    "import numpy as np\n",
    "import scipy as sp\n",
    "import pandas as pd\n",
    "import sobol\n",
    "import os\n",
    "import pickle\n",
    "obs_series = pd.read_csv('data.csv', delimiter=',')\n",
    "obs_series = np.array(obs_series.iloc[:,1:]).T\n",
    "\n",
    "datadir = os.path.dirname(os.getcwd()) + '/sobols_queuence/'\n",
    "outputdir = os.path.dirname(os.getcwd()) + '/opt/'"
   ]
  },
  {
   "cell_type": "code",
   "execution_count": 12,
   "id": "7471f8fa",
   "metadata": {},
   "outputs": [],
   "source": [
    "block = 0"
   ]
  },
  {
   "cell_type": "code",
   "execution_count": 13,
   "id": "94f23537",
   "metadata": {},
   "outputs": [],
   "source": [
    "with open(datadir + 'sobol_'+str(block)+'.pkl','rb') as f:\n",
    "    sobol_sequence = pickle.load(f)"
   ]
  },
  {
   "cell_type": "code",
   "execution_count": 14,
   "id": "606c273a",
   "metadata": {},
   "outputs": [],
   "source": [
    "n_points = sobol_sequence.shape[0]\n",
    "start = np.array_split(sobol_sequence, n_points)"
   ]
  },
  {
   "cell_type": "code",
   "execution_count": 21,
   "id": "0dc89b24",
   "metadata": {},
   "outputs": [
    {
     "name": "stdout",
     "output_type": "stream",
     "text": [
      "2.5191519260406494\n"
     ]
    }
   ],
   "source": [
    "import numpy as np\n",
    "import scipy as sp\n",
    "import pandas as pd\n",
    "import matplotlib.pyplot as plt\n",
    "import seaborn as sns\n",
    "import pickle\n",
    "import os\n",
    "import time\n",
    "import sobol\n",
    "from concurrent.futures import ProcessPoolExecutor\n",
    "from Minimization import minimization\n",
    "np.set_printoptions(suppress = True)\n",
    "\n",
    "obs_series = pd.read_csv('data.csv', delimiter=',')\n",
    "obs_series = np.array(obs_series.iloc[:,1:]).T\n",
    "\n",
    "datadir = os.path.dirname(os.getcwd()) + '/sobols_queuence/'\n",
    "outputdir = os.path.dirname(os.getcwd()) + '/opt/'\n",
    "\n",
    "block = 0\n",
    "\n",
    "with open(datadir + 'sobol_'+str(block)+'.pkl','rb') as f:\n",
    "    sobol_sequence = pickle.load(f)\n",
    "\n",
    "n_points = sobol_sequence.shape[0]\n",
    "start = np.array_split(sobol_sequence, n_points)[0:4]\n",
    "\n",
    "start_time = time.time()\n",
    "if __name__ == '__main__':\n",
    "    with ProcessPoolExecutor() as pool:\n",
    "        results = pool.map(minimization, start)\n",
    "    results = [r for r in results]\n",
    "\n",
    "run_time = time.time() - start_time\n",
    "print(run_time)\n",
    "with open(outputdir + 'output_'+str(block)+'.pkl', 'wb') as f:\n",
    "       pickle.dump(results, f)"
   ]
  },
  {
   "cell_type": "code",
   "execution_count": null,
   "id": "960825d4",
   "metadata": {},
   "outputs": [],
   "source": []
  }
 ],
 "metadata": {
  "kernelspec": {
   "display_name": "Python 3 (ipykernel)",
   "language": "python",
   "name": "python3"
  },
  "language_info": {
   "codemirror_mode": {
    "name": "ipython",
    "version": 3
   },
   "file_extension": ".py",
   "mimetype": "text/x-python",
   "name": "python",
   "nbconvert_exporter": "python",
   "pygments_lexer": "ipython3",
   "version": "3.9.12"
  }
 },
 "nbformat": 4,
 "nbformat_minor": 5
}
